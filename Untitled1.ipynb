{
 "cells": [
  {
   "cell_type": "code",
   "execution_count": 1,
   "metadata": {},
   "outputs": [],
   "source": [
    "import numpy as np"
   ]
  },
  {
   "cell_type": "code",
   "execution_count": 5,
   "metadata": {},
   "outputs": [],
   "source": [
    "K = 1000\n",
    "\n",
    "\n",
    "def randrange(n, vmin, vmax):\n",
    "    '''\n",
    "    Helper function to make an array of random numbers having shape (n, )\n",
    "    with each number distributed Uniform(vmin, vmax).\n",
    "    '''\n",
    "    return (vmax - vmin)*np.random.rand(n) + vmin\n",
    "\n",
    "\n",
    "def sample_points(a, b, c, d, side=1, noise=0.1, n=10):\n",
    "    if side not in [1, -1]:\n",
    "        raise Exception('invalid argument: ', side)\n",
    "    x = randrange(n, -K, K)\n",
    "    y = randrange(n, -K, K)\n",
    "    z = (-a*x -b*y -d) / c\n",
    "\n",
    "    distance_to_hyperplane = randrange(n, 0, K/2)\n",
    "\n",
    "    if side == 1:\n",
    "        keep_label = np.random.choice([1, -1], p=[1-noise, noise], size=n)\n",
    "    else:\n",
    "        keep_label = np.random.choice([1, -1], p=[noise, 1-noise], size=n)\n",
    "\n",
    "    x = x + keep_label * distance_to_hyperplane * a\n",
    "    y = y + keep_label * distance_to_hyperplane * b\n",
    "    z = z + keep_label * distance_to_hyperplane * c\n",
    "\n",
    "    return x, y, z\n",
    "\n",
    "\n",
    "def get_plane_points(a, b, c, d):\n",
    "    x, y = np.meshgrid([-K, K], [-K, K])\n",
    "    z = (-a*x -b*y -d) / c\n",
    "\n",
    "    return x, y, z\n",
    "\n",
    "\n",
    "def generate_dataset(a, b, c, d, n, noise):\n",
    "    x_pos, y_pos, z_pos = sample_points(a, b, c, d, n=n, side=1, noise=noise)\n",
    "    X_pos = np.stack((x_pos, y_pos, z_pos), axis=-1)\n",
    "    Y_pos = np.ones(n, dtype=np.int)\n",
    "    x_neg, y_neg, z_neg = sample_points(a, b, c, d, n=n, side=-1, noise=noise)\n",
    "    X_neg = np.stack((x_neg, y_neg, z_neg), axis=-1)\n",
    "    Y_neg = -1 * np.ones(n, dtype=np.int)\n",
    "    X = np.concatenate((X_pos, X_neg), axis=0)\n",
    "    Y = np.concatenate((Y_pos, Y_neg), axis=0)\n",
    "    ones = np.reshape(np.array(np.ones(2 * n)), (2 * n, 1))\n",
    "    X = np.append(X, ones, axis=1)\n",
    "    return X, Y"
   ]
  },
  {
   "cell_type": "code",
   "execution_count": 9,
   "metadata": {},
   "outputs": [],
   "source": [
    "va = np.array([1, 0, 0, 0], dtype=np.int)\n",
    "vb = np.array([0, 1, 0, 0], dtype=np.int)\n",
    "vc = np.array([0, 0, 1, 0], dtype=np.int)\n",
    "vd = np.array([0, 0, 0, 1], dtype=np.int)"
   ]
  },
  {
   "cell_type": "code",
   "execution_count": 17,
   "metadata": {},
   "outputs": [],
   "source": [
    "X = np.reshape(range(20), (5,4))"
   ]
  },
  {
   "cell_type": "code",
   "execution_count": 19,
   "metadata": {},
   "outputs": [
    {
     "data": {
      "text/plain": [
       "(5, 4)"
      ]
     },
     "execution_count": 19,
     "metadata": {},
     "output_type": "execute_result"
    }
   ],
   "source": [
    "X.shape"
   ]
  },
  {
   "cell_type": "code",
   "execution_count": 23,
   "metadata": {},
   "outputs": [
    {
     "data": {
      "text/plain": [
       "array([[ 0,  1,  2,  3],\n",
       "       [ 4,  5,  6,  7],\n",
       "       [ 8,  9, 10, 11],\n",
       "       [12, 13, 14, 15],\n",
       "       [16, 17, 18, 19]])"
      ]
     },
     "execution_count": 23,
     "metadata": {},
     "output_type": "execute_result"
    }
   ],
   "source": [
    "X"
   ]
  },
  {
   "cell_type": "code",
   "execution_count": 39,
   "metadata": {},
   "outputs": [
    {
     "data": {
      "text/plain": [
       "array([[ 0,  1,  0,  0],\n",
       "       [ 4,  5,  0,  0],\n",
       "       [ 8,  9,  0,  0],\n",
       "       [12, 13,  0,  0],\n",
       "       [16, 17,  0,  0]])"
      ]
     },
     "execution_count": 39,
     "metadata": {},
     "output_type": "execute_result"
    }
   ],
   "source": [
    "X * idx[0]"
   ]
  },
  {
   "cell_type": "code",
   "execution_count": 27,
   "metadata": {},
   "outputs": [],
   "source": [
    "idx = [va+vb, vc]"
   ]
  },
  {
   "cell_type": "code",
   "execution_count": 37,
   "metadata": {},
   "outputs": [],
   "source": [
    "result = np.zeros(0)"
   ]
  },
  {
   "cell_type": "code",
   "execution_count": 48,
   "metadata": {},
   "outputs": [],
   "source": [
    "cols = []\n",
    "for i in idx:\n",
    "    col = np.sum(X*i, axis=-1)\n",
    "    cols.append(col)\n",
    "    \n",
    "result = np.stack(cols, axis=-1)    "
   ]
  },
  {
   "cell_type": "code",
   "execution_count": 49,
   "metadata": {},
   "outputs": [
    {
     "data": {
      "text/plain": [
       "array([[ 1,  2],\n",
       "       [ 9,  6],\n",
       "       [17, 10],\n",
       "       [25, 14],\n",
       "       [33, 18]])"
      ]
     },
     "execution_count": 49,
     "metadata": {},
     "output_type": "execute_result"
    }
   ],
   "source": [
    "result"
   ]
  },
  {
   "cell_type": "code",
   "execution_count": 32,
   "metadata": {},
   "outputs": [
    {
     "data": {
      "text/plain": [
       "(5, 2)"
      ]
     },
     "execution_count": 32,
     "metadata": {},
     "output_type": "execute_result"
    }
   ],
   "source": []
  },
  {
   "cell_type": "code",
   "execution_count": 26,
   "metadata": {},
   "outputs": [
    {
     "data": {
      "text/plain": [
       "array([[ True,  True,  True,  True,  True,  True,  True,  True,  True,\n",
       "         True, False, False, False, False, False, False, False, False,\n",
       "        False, False],\n",
       "       [False, False, False, False, False, False, False, False, False,\n",
       "        False,  True,  True,  True,  True,  True, False, False, False,\n",
       "        False, False]])"
      ]
     },
     "execution_count": 26,
     "metadata": {},
     "output_type": "execute_result"
    }
   ],
   "source": [
    "np.repeat(idx, X.shape[0], axis=1)"
   ]
  },
  {
   "cell_type": "code",
   "execution_count": 52,
   "metadata": {},
   "outputs": [],
   "source": [
    "v = np.reshape(range(10), (10, 1))"
   ]
  },
  {
   "cell_type": "code",
   "execution_count": 53,
   "metadata": {},
   "outputs": [
    {
     "data": {
      "text/plain": [
       "(10, 1)"
      ]
     },
     "execution_count": 53,
     "metadata": {},
     "output_type": "execute_result"
    }
   ],
   "source": [
    "v.shape"
   ]
  },
  {
   "cell_type": "code",
   "execution_count": 54,
   "metadata": {},
   "outputs": [],
   "source": [
    "w = np.random.normal(size=2)"
   ]
  },
  {
   "cell_type": "code",
   "execution_count": 55,
   "metadata": {},
   "outputs": [
    {
     "ename": "ValueError",
     "evalue": "shapes (2,) and (5,4) not aligned: 2 (dim 0) != 5 (dim 0)",
     "output_type": "error",
     "traceback": [
      "\u001b[0;31m---------------------------------------------------------------------------\u001b[0m",
      "\u001b[0;31mValueError\u001b[0m                                Traceback (most recent call last)",
      "\u001b[0;32m<ipython-input-55-e98d09c07642>\u001b[0m in \u001b[0;36m<module>\u001b[0;34m\u001b[0m\n\u001b[0;32m----> 1\u001b[0;31m \u001b[0mw\u001b[0m\u001b[0;34m.\u001b[0m\u001b[0mdot\u001b[0m\u001b[0;34m(\u001b[0m\u001b[0mX\u001b[0m\u001b[0;34m)\u001b[0m\u001b[0;34m\u001b[0m\u001b[0m\n\u001b[0m",
      "\u001b[0;31mValueError\u001b[0m: shapes (2,) and (5,4) not aligned: 2 (dim 0) != 5 (dim 0)"
     ]
    }
   ],
   "source": [
    "w.dot(X)"
   ]
  }
 ],
 "metadata": {
  "kernelspec": {
   "display_name": "mestrado",
   "language": "python",
   "name": "mestrado"
  },
  "language_info": {
   "codemirror_mode": {
    "name": "ipython",
    "version": 3
   },
   "file_extension": ".py",
   "mimetype": "text/x-python",
   "name": "python",
   "nbconvert_exporter": "python",
   "pygments_lexer": "ipython3",
   "version": "3.7.0"
  }
 },
 "nbformat": 4,
 "nbformat_minor": 2
}
